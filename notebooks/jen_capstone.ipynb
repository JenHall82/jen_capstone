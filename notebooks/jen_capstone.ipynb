{
 "cells": [
  {
   "cell_type": "code",
   "execution_count": null,
   "id": "40639708",
   "metadata": {},
   "outputs": [],
   "source": [
    "import pandas as pd\n",
    "import numpy as np\n",
    "import matplotlib.pyplot as plt\n",
    "import seaborn as sns"
   ]
  },
  {
   "cell_type": "code",
   "execution_count": null,
   "id": "f6834922",
   "metadata": {
    "scrolled": true
   },
   "outputs": [],
   "source": [
    "teacher_core = pd.read_excel('../data/Teacher_Core_District_Consolidated_2022 (1).xlsx')\n",
    "teacher_core"
   ]
  },
  {
   "cell_type": "code",
   "execution_count": null,
   "id": "32a86d83",
   "metadata": {
    "scrolled": true
   },
   "outputs": [],
   "source": [
    "teacher_core = pd.DataFrame(teacher_core)\n",
    "teacher_core"
   ]
  },
  {
   "cell_type": "code",
   "execution_count": null,
   "id": "a63a9522",
   "metadata": {},
   "outputs": [],
   "source": [
    "teacher_core_stats = teacher_core[['District', 'Prompt', 'Strongly Disagree', 'Disagree',\n",
    "                             'Agree', 'Strongly Agree']]\n",
    "teacher_core_stats.head()"
   ]
  },
  {
   "cell_type": "code",
   "execution_count": null,
   "id": "363bb104",
   "metadata": {},
   "outputs": [],
   "source": [
    "teacher_core_stats.head(100)"
   ]
  },
  {
   "cell_type": "code",
   "execution_count": null,
   "id": "826de07d",
   "metadata": {
    "scrolled": true
   },
   "outputs": [],
   "source": [
    "avg_str_agree = teacher_core_stats[['Strongly Agree', 'District']]\n",
    "avg_str_agree"
   ]
  },
  {
   "cell_type": "code",
   "execution_count": null,
   "id": "f8edfb46",
   "metadata": {
    "scrolled": false
   },
   "outputs": [],
   "source": [
    "avg_str_agree.dtypes"
   ]
  },
  {
   "cell_type": "code",
   "execution_count": null,
   "id": "71135630",
   "metadata": {},
   "outputs": [],
   "source": [
    "avg_str_agree = avg_str_agree.loc[(avg_str_agree['Strongly Agree'] > 1)]\n",
    "avg_str_agree"
   ]
  },
  {
   "cell_type": "code",
   "execution_count": null,
   "id": "447d2959",
   "metadata": {
    "scrolled": true
   },
   "outputs": [],
   "source": [
    "avg_str_agree.columns = ['per_strongly_agree', 'district']\n",
    "avg_str_agree"
   ]
  },
  {
   "cell_type": "code",
   "execution_count": null,
   "id": "cea5fc3f",
   "metadata": {},
   "outputs": [],
   "source": [
    "avg_str_agree.describe()"
   ]
  },
  {
   "cell_type": "code",
   "execution_count": null,
   "id": "cdc497f8",
   "metadata": {
    "scrolled": true
   },
   "outputs": [],
   "source": [
    "avg_str_agree_dist = avg_str_agree.groupby('district').mean()\n",
    "\n",
    "avg_str_agree_dist = avg_str_agree_dist.reset_index()"
   ]
  },
  {
   "cell_type": "code",
   "execution_count": null,
   "id": "e4dc1d90",
   "metadata": {},
   "outputs": [],
   "source": [
    "avg_str_agree_dist = avg_str_agree_dist.sort_values('per_strongly_agree', ascending = False)"
   ]
  },
  {
   "cell_type": "code",
   "execution_count": null,
   "id": "354be03a",
   "metadata": {
    "scrolled": true
   },
   "outputs": [],
   "source": [
    "plt.figure(figsize = (30, 20))                              \n",
    "sns.set(style=\"whitegrid\")                                  \n",
    "sns.barplot(x = 'district', \n",
    "            y = 'per_strongly_agree', \n",
    "            data = avg_str_agree_dist, \n",
    "            palette = 'Set2')\n",
    "plt.xlabel('District', rotation = 45)                                              \n",
    "plt.ylabel('Average Percent')                                              \n",
    "plt.title('Average Percent of Strongly Agree')\n",
    "plt.xticks(rotation=90);"
   ]
  },
  {
   "cell_type": "code",
   "execution_count": null,
   "id": "6a7ff0e9",
   "metadata": {
    "scrolled": true
   },
   "outputs": [],
   "source": [
    "top_avg_str_agree = avg_str_agree_dist.head(24)\n",
    "top_avg_str_agree = top_avg_str_agree.reset_index()\n",
    "top_avg_str_agree"
   ]
  },
  {
   "cell_type": "code",
   "execution_count": null,
   "id": "da7308bc",
   "metadata": {},
   "outputs": [],
   "source": [
    "avg_str_dis = teacher_core_stats[['Strongly Disagree', 'District']]\n",
    "avg_str_dis"
   ]
  },
  {
   "cell_type": "code",
   "execution_count": null,
   "id": "473eb3db",
   "metadata": {},
   "outputs": [],
   "source": [
    "avg_str_dis.dtypes"
   ]
  },
  {
   "cell_type": "code",
   "execution_count": null,
   "id": "a3b9aa95",
   "metadata": {},
   "outputs": [],
   "source": [
    "avg_str_dis = avg_str_dis.loc[(avg_str_dis['Strongly Disagree'] > 1)]\n",
    "avg_str_dis"
   ]
  },
  {
   "cell_type": "code",
   "execution_count": null,
   "id": "29c42653",
   "metadata": {},
   "outputs": [],
   "source": [
    "avg_str_dis.columns = ['per_strongly_dis', 'district']\n",
    "avg_str_dis"
   ]
  },
  {
   "cell_type": "code",
   "execution_count": null,
   "id": "3ea607b1",
   "metadata": {},
   "outputs": [],
   "source": [
    "avg_str_dis_dist = avg_str_dis.groupby('district').mean()\n",
    "\n",
    "avg_str_dis_dist = avg_str_dis_dist.reset_index()"
   ]
  },
  {
   "cell_type": "code",
   "execution_count": null,
   "id": "86b0a4cb",
   "metadata": {},
   "outputs": [],
   "source": [
    "avg_str_dis_dist = avg_str_dis_dist.sort_values('per_strongly_dis', ascending = False)"
   ]
  },
  {
   "cell_type": "code",
   "execution_count": null,
   "id": "7440e8f3",
   "metadata": {
    "scrolled": true
   },
   "outputs": [],
   "source": [
    "plt.figure(figsize = (30, 20))                              \n",
    "sns.set(style=\"whitegrid\")                                  \n",
    "sns.barplot(x = 'district', \n",
    "            y = 'per_strongly_dis', \n",
    "            data = avg_str_dis_dist, \n",
    "            palette = 'Set2')\n",
    "plt.xlabel('District', rotation = 45)                                              \n",
    "plt.ylabel('Average Percent')                                              \n",
    "plt.title('Average Percent of Strongly Disagree')\n",
    "plt.xticks(rotation=90);"
   ]
  },
  {
   "cell_type": "code",
   "execution_count": null,
   "id": "d64f1f9c",
   "metadata": {
    "scrolled": true
   },
   "outputs": [],
   "source": [
    "top_str_dis = avg_str_dis_dist.head(24)\n",
    "top_str_dis"
   ]
  },
  {
   "cell_type": "code",
   "execution_count": null,
   "id": "629372f6",
   "metadata": {
    "scrolled": true
   },
   "outputs": [],
   "source": [
    "scores = pd.read_excel('../data/district_assessment_file_suppressed_upd32323.xlsx')\n",
    "scores"
   ]
  },
  {
   "cell_type": "code",
   "execution_count": null,
   "id": "c5bd73cf",
   "metadata": {
    "scrolled": true
   },
   "outputs": [],
   "source": [
    "dist_scores_percent = scores.loc[(scores.grade == 'All Grades')]\n",
    "dist_scores_percent"
   ]
  },
  {
   "cell_type": "code",
   "execution_count": null,
   "id": "40fc7f6c",
   "metadata": {
    "scrolled": true
   },
   "outputs": [],
   "source": [
    "dist_scores_percent = dist_scores_percent.loc[(dist_scores_percent.student_group == 'All Students')]\n",
    "dist_scores_percent"
   ]
  },
  {
   "cell_type": "code",
   "execution_count": null,
   "id": "e515fd49",
   "metadata": {
    "scrolled": false
   },
   "outputs": [],
   "source": [
    "dist_scores_percent = dist_scores_percent.loc[(dist_scores_percent.subject == 'ELA')|(dist_scores_percent.subject == 'Math')]\n",
    "dist_scores_percent"
   ]
  },
  {
   "cell_type": "code",
   "execution_count": null,
   "id": "7d36141c",
   "metadata": {
    "scrolled": true
   },
   "outputs": [],
   "source": [
    "dist_scores_percent = dist_scores_percent.loc[(dist_scores_percent.test == 'TNReady')]\n",
    "dist_scores_percent"
   ]
  },
  {
   "cell_type": "code",
   "execution_count": null,
   "id": "2c0a468a",
   "metadata": {},
   "outputs": [],
   "source": [
    "dist_scores_percent = dist_scores_percent[['system_name', 'subject', 'pct_below', 'pct_approaching', 'pct_met_expectations', 'pct_exceeded_expectations']]"
   ]
  },
  {
   "cell_type": "code",
   "execution_count": null,
   "id": "647922b6",
   "metadata": {},
   "outputs": [],
   "source": [
    "dist_scores_percent"
   ]
  },
  {
   "cell_type": "code",
   "execution_count": null,
   "id": "a97e5e22",
   "metadata": {
    "scrolled": true
   },
   "outputs": [],
   "source": [
    "dist_scores_percent = dist_scores_percent.rename (columns = {'system_name':'district'})\n",
    "dist_scores_percent"
   ]
  },
  {
   "cell_type": "code",
   "execution_count": null,
   "id": "41e267db",
   "metadata": {
    "scrolled": true
   },
   "outputs": [],
   "source": [
    "top_sat_scores = pd.merge(top_avg_str_agree, dist_scores_percent, on = 'district', how = 'left').dropna()\n",
    "top_sat_scores"
   ]
  },
  {
   "cell_type": "code",
   "execution_count": null,
   "id": "1c94038c",
   "metadata": {},
   "outputs": [],
   "source": [
    "top_sat_scores.to_csv('../data/top_sat_scores.csv')"
   ]
  },
  {
   "cell_type": "code",
   "execution_count": null,
   "id": "13011027",
   "metadata": {
    "scrolled": true
   },
   "outputs": [],
   "source": [
    "top_dis_scores = pd.merge(top_str_dis, dist_scores_percent, on = 'district', how = 'left').dropna()\n",
    "top_dis_scores"
   ]
  },
  {
   "cell_type": "code",
   "execution_count": null,
   "id": "54e42365",
   "metadata": {},
   "outputs": [],
   "source": [
    "top_dis_scores.to_csv('../data/top_dis_scores.csv')"
   ]
  },
  {
   "cell_type": "code",
   "execution_count": null,
   "id": "f5f82257",
   "metadata": {},
   "outputs": [],
   "source": [
    "top_sat_and_dis = pd.concat([top_sat_scores, top_dis_scores]).reset_index()\n",
    "top_sat_and_dis = top_sat_and_dis.drop(columns=['index', 'level_0'])"
   ]
  },
  {
   "cell_type": "code",
   "execution_count": null,
   "id": "4545f96b",
   "metadata": {},
   "outputs": [],
   "source": [
    "top_sat_and_dis.to_csv('../data/top_sat_and_dis.csv')"
   ]
  },
  {
   "cell_type": "code",
   "execution_count": null,
   "id": "0e3b2ef2",
   "metadata": {
    "scrolled": true
   },
   "outputs": [],
   "source": [
    "top_sat_and_dis.fillna(0, inplace=True)\n",
    "top_sat_and_dis"
   ]
  },
  {
   "cell_type": "code",
   "execution_count": null,
   "id": "3206e689",
   "metadata": {},
   "outputs": [],
   "source": [
    "for index, row in top_sat_and_dis.iterrows():\n",
    "    if row.per_strongly_agree != 0 :\n",
    "        top_sat_and_dis.loc[index, 'sat_or_dis'] =  'Satisfied'\n",
    "    else:\n",
    "        top_sat_and_dis.loc[index, 'sat_or_dis'] = 'Dissatisfied'\n",
    "   \n",
    " "
   ]
  },
  {
   "cell_type": "code",
   "execution_count": null,
   "id": "edbe89ba",
   "metadata": {},
   "outputs": [],
   "source": [
    "top_sat_and_dis"
   ]
  },
  {
   "cell_type": "code",
   "execution_count": null,
   "id": "3fa83041",
   "metadata": {},
   "outputs": [],
   "source": [
    "top_sat_and_dis.to_csv('../data/top_sat_and_dis.csv')"
   ]
  },
  {
   "cell_type": "code",
   "execution_count": null,
   "id": "91c236b1",
   "metadata": {},
   "outputs": [],
   "source": [
    "q_01c_sat = teacher_core_stats.loc[(teacher_core_stats['Prompt']== 'I am generally satisfied with being a teacher in this school.')]"
   ]
  },
  {
   "cell_type": "code",
   "execution_count": null,
   "id": "d7282331",
   "metadata": {},
   "outputs": [],
   "source": [
    "generally_satisfied = q_01c_sat.reset_index(drop=True)"
   ]
  },
  {
   "cell_type": "code",
   "execution_count": null,
   "id": "d506fcaa",
   "metadata": {
    "scrolled": false
   },
   "outputs": [],
   "source": [
    "top_generally_sat = generally_satisfied.sort_values(by = 'Strongly Agree', ascending = False).head(12)\n",
    "top_generally_sat"
   ]
  },
  {
   "cell_type": "code",
   "execution_count": null,
   "id": "7b59d421",
   "metadata": {},
   "outputs": [],
   "source": [
    "top_generally_sat = top_generally_sat.drop(columns = ['Strongly Disagree', 'Disagree', 'Agree'])"
   ]
  },
  {
   "cell_type": "code",
   "execution_count": null,
   "id": "85cad50a",
   "metadata": {},
   "outputs": [],
   "source": [
    "top_generally_sat = top_generally_sat.rename(columns = {'District':'district', 'Prompt': 'prompt',\n",
    "                                                       'Strongly Agree': 'strongly_agree'})\n",
    "top_generally_sat"
   ]
  },
  {
   "cell_type": "code",
   "execution_count": null,
   "id": "6c1a2d7b",
   "metadata": {
    "scrolled": true
   },
   "outputs": [],
   "source": [
    "top_generally_sat = pd.merge(top_generally_sat, dist_scores_percent, on = 'district', how = 'left').dropna()\n",
    "top_generally_sat"
   ]
  },
  {
   "cell_type": "code",
   "execution_count": null,
   "id": "7c6e2107",
   "metadata": {},
   "outputs": [],
   "source": [
    "top_generally_sat['pct_met_expectations'] = top_generally_sat['pct_met_expectations'].astype(float)\n",
    "top_generally_sat['pct_exceeded_expectations'] = top_generally_sat['pct_exceeded_expectations'].astype(float)"
   ]
  },
  {
   "cell_type": "code",
   "execution_count": null,
   "id": "c2ecb316",
   "metadata": {
    "scrolled": true
   },
   "outputs": [],
   "source": [
    "top_generally_sat['pct_met_exc'] = top_generally_sat.pct_met_expectations + top_generally_sat.pct_exceeded_expectations\n",
    "top_generally_sat"
   ]
  },
  {
   "cell_type": "code",
   "execution_count": null,
   "id": "76b3c517",
   "metadata": {
    "scrolled": true
   },
   "outputs": [],
   "source": [
    "met_and_exceeded = top_generally_sat[['district', 'strongly_agree', 'pct_met_exc']]\n",
    "met_and_exceeded"
   ]
  },
  {
   "cell_type": "code",
   "execution_count": null,
   "id": "eb3a7c70",
   "metadata": {},
   "outputs": [],
   "source": [
    "scores.head(50)"
   ]
  },
  {
   "cell_type": "code",
   "execution_count": null,
   "id": "42d32f83",
   "metadata": {
    "scrolled": true
   },
   "outputs": [],
   "source": [
    "scores_new = scores.loc[(scores.student_group == 'All Students')]\n",
    "scores_new"
   ]
  },
  {
   "cell_type": "code",
   "execution_count": null,
   "id": "cbdd5242",
   "metadata": {
    "scrolled": true
   },
   "outputs": [],
   "source": [
    "scores_new = scores_new.loc[(scores_new.subject == 'ELA')|(scores_new.subject == 'Math')]\n",
    "scores_new"
   ]
  },
  {
   "cell_type": "code",
   "execution_count": null,
   "id": "f981b94f",
   "metadata": {
    "scrolled": true
   },
   "outputs": [],
   "source": [
    "scores_new = scores_new.loc[(scores_new.test == 'TNReady')]\n",
    "scores_new"
   ]
  },
  {
   "cell_type": "code",
   "execution_count": null,
   "id": "67a160f8",
   "metadata": {
    "scrolled": true
   },
   "outputs": [],
   "source": [
    "scores_new = scores_new[['system_name', 'pct_met_exceeded']]\n",
    "scores_new"
   ]
  },
  {
   "cell_type": "code",
   "execution_count": null,
   "id": "bc6e11c6",
   "metadata": {},
   "outputs": [],
   "source": [
    "scores_new.dtypes"
   ]
  },
  {
   "cell_type": "code",
   "execution_count": null,
   "id": "d16b6255",
   "metadata": {},
   "outputs": [],
   "source": [
    "sat_counties = ('Lexington', 'Smith County', 'Chester County', 'Moore County', 'Richard City', 'Dyer County',\n",
    "                'Grundy County', 'Cumberland County', 'Obion County', 'Sevier County')"
   ]
  },
  {
   "cell_type": "code",
   "execution_count": null,
   "id": "2a079e93",
   "metadata": {
    "scrolled": true
   },
   "outputs": [],
   "source": [
    "scores_new = scores_new.loc[scores.system_name.isin(sat_counties)]\n",
    "scores_new = scores_new.dropna()"
   ]
  },
  {
   "cell_type": "code",
   "execution_count": null,
   "id": "a4c98787",
   "metadata": {
    "scrolled": true
   },
   "outputs": [],
   "source": [
    "scores_new.dtypes"
   ]
  },
  {
   "cell_type": "code",
   "execution_count": null,
   "id": "6bed2cb8",
   "metadata": {},
   "outputs": [],
   "source": [
    "scores_new.isna()"
   ]
  },
  {
   "cell_type": "code",
   "execution_count": null,
   "id": "75c612ca",
   "metadata": {
    "scrolled": false
   },
   "outputs": [],
   "source": [
    "scores_new.pct_met_exceeded = scores_new.pct_met_exceeded.astype(float)"
   ]
  },
  {
   "cell_type": "code",
   "execution_count": null,
   "id": "2f401420",
   "metadata": {},
   "outputs": [],
   "source": [
    "scores_new = scores_new.groupby('system_name')['pct_met_exceeded'].mean()\n",
    "scores_new"
   ]
  },
  {
   "cell_type": "code",
   "execution_count": null,
   "id": "e1b50ce1",
   "metadata": {
    "scrolled": true
   },
   "outputs": [],
   "source": [
    "scores_new.reset_index()"
   ]
  },
  {
   "cell_type": "code",
   "execution_count": null,
   "id": "76aecc53",
   "metadata": {},
   "outputs": [],
   "source": []
  }
 ],
 "metadata": {
  "kernelspec": {
   "display_name": "Python 3 (ipykernel)",
   "language": "python",
   "name": "python3"
  },
  "language_info": {
   "codemirror_mode": {
    "name": "ipython",
    "version": 3
   },
   "file_extension": ".py",
   "mimetype": "text/x-python",
   "name": "python",
   "nbconvert_exporter": "python",
   "pygments_lexer": "ipython3",
   "version": "3.10.9"
  }
 },
 "nbformat": 4,
 "nbformat_minor": 5
}

{
 "cells": [
  {
   "cell_type": "code",
   "execution_count": 1,
   "id": "fb62ab8a",
   "metadata": {},
   "outputs": [],
   "source": [
    "import pandas as pd\n",
    "import requests\n",
    "import matplotlib.pyplot as plt\n",
    "import json"
   ]
  },
  {
   "cell_type": "code",
   "execution_count": 8,
   "id": "21aa3374",
   "metadata": {},
   "outputs": [],
   "source": [
    "with open('../data/keys.json') as fi:\n",
    "    credentials = json.load(fi)"
   ]
  },
  {
   "cell_type": "code",
   "execution_count": 9,
   "id": "818f1ca8",
   "metadata": {},
   "outputs": [],
   "source": [
    "params = { 'X-API-Key': 'api_key'}"
   ]
  },
  {
   "cell_type": "code",
   "execution_count": 10,
   "id": "66404180",
   "metadata": {},
   "outputs": [],
   "source": [
    "api_key = credentials['api_key']"
   ]
  },
  {
   "cell_type": "code",
   "execution_count": 11,
   "id": "9e498d7d",
   "metadata": {},
   "outputs": [],
   "source": [
    "endpoint = 'https://gs-api.greatschools.org/schools/100001/metrics' \n"
   ]
  },
  {
   "cell_type": "code",
   "execution_count": 13,
   "id": "083bd3ff",
   "metadata": {},
   "outputs": [
    {
     "data": {
      "text/plain": [
       "<Response [403]>"
      ]
     },
     "execution_count": 13,
     "metadata": {},
     "output_type": "execute_result"
    }
   ],
   "source": [
    "response = requests.get(endpoint, params = params)\n",
    "response"
   ]
  },
  {
   "cell_type": "code",
   "execution_count": null,
   "id": "8d958926",
   "metadata": {},
   "outputs": [],
   "source": []
  }
 ],
 "metadata": {
  "kernelspec": {
   "display_name": "Python 3 (ipykernel)",
   "language": "python",
   "name": "python3"
  },
  "language_info": {
   "codemirror_mode": {
    "name": "ipython",
    "version": 3
   },
   "file_extension": ".py",
   "mimetype": "text/x-python",
   "name": "python",
   "nbconvert_exporter": "python",
   "pygments_lexer": "ipython3",
   "version": "3.10.9"
  }
 },
 "nbformat": 4,
 "nbformat_minor": 5
}

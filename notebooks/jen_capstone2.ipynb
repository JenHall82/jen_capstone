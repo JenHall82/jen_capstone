{
 "cells": [
  {
   "cell_type": "code",
   "execution_count": 2,
   "id": "40639708",
   "metadata": {},
   "outputs": [],
   "source": [
    "import pandas as pd\n",
    "import numpy as np\n",
    "import matplotlib.pyplot as ply\n",
    "import seaborn as sns"
   ]
  },
  {
   "cell_type": "code",
   "execution_count": 4,
   "id": "36575dcf",
   "metadata": {
    "scrolled": true
   },
   "outputs": [],
   "source": [
    "chester_county = pd.read_csv('../data/chester_county.csv')"
   ]
  },
  {
   "cell_type": "code",
   "execution_count": 12,
   "id": "1c2dc03e",
   "metadata": {},
   "outputs": [
    {
     "ename": "SyntaxError",
     "evalue": "invalid syntax. Perhaps you forgot a comma? (3337573690.py, line 1)",
     "output_type": "error",
     "traceback": [
      "\u001b[1;36m  Cell \u001b[1;32mIn[12], line 1\u001b[1;36m\u001b[0m\n\u001b[1;33m    chester_county.loc[(chester_county['Fact']str.contains('High'), or chester_county['Fact']str.contains('Bachelor*s'))]\u001b[0m\n\u001b[1;37m                        ^\u001b[0m\n\u001b[1;31mSyntaxError\u001b[0m\u001b[1;31m:\u001b[0m invalid syntax. Perhaps you forgot a comma?\n"
     ]
    }
   ],
   "source": [
    "chester_county.loc[(chester_county['Fact']str.contains('High'), or chester_county['Fact']str.contains('Bachelor*s'))]"
   ]
  },
  {
   "cell_type": "code",
   "execution_count": null,
   "id": "8fabdaad",
   "metadata": {},
   "outputs": [],
   "source": [
    "chester_county.loc(chester_county.fact )"
   ]
  }
 ],
 "metadata": {
  "kernelspec": {
   "display_name": "Python 3 (ipykernel)",
   "language": "python",
   "name": "python3"
  },
  "language_info": {
   "codemirror_mode": {
    "name": "ipython",
    "version": 3
   },
   "file_extension": ".py",
   "mimetype": "text/x-python",
   "name": "python",
   "nbconvert_exporter": "python",
   "pygments_lexer": "ipython3",
   "version": "3.10.9"
  }
 },
 "nbformat": 4,
 "nbformat_minor": 5
}

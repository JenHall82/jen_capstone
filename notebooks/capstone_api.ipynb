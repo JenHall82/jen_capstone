{
 "cells": [
  {
   "cell_type": "code",
   "execution_count": 1,
   "id": "87495bf1",
   "metadata": {},
   "outputs": [],
   "source": [
    "import pandas as pd\n",
    "import requests\n",
    "import matplotlib.pyplot as plt\n",
    "import json"
   ]
  },
  {
   "cell_type": "code",
   "execution_count": 2,
   "id": "7aed872d",
   "metadata": {},
   "outputs": [],
   "source": [
    "with open('../data/keys.json') as fi:\n",
    "    credentials = json.load(fi)"
   ]
  },
  {
   "cell_type": "code",
   "execution_count": 3,
   "id": "6c0158f3",
   "metadata": {},
   "outputs": [],
   "source": [
    "api_key = credentials['api_key']"
   ]
  },
  {
   "cell_type": "code",
   "execution_count": 17,
   "id": "d696a661",
   "metadata": {},
   "outputs": [],
   "source": [
    "headers = { 'X-API-Key': 'L4041lpVxt21j75S7hToRaCM5lJlSX0l5XVX1q6s'}"
   ]
  },
  {
   "cell_type": "code",
   "execution_count": 31,
   "id": "566dfa26",
   "metadata": {},
   "outputs": [],
   "source": [
    "endpoint = 'https://gs-api.greatschools.org/nearby-schools' \n"
   ]
  },
  {
   "cell_type": "code",
   "execution_count": 32,
   "id": "bcaeb6b6",
   "metadata": {},
   "outputs": [
    {
     "data": {
      "text/plain": [
       "<Response [422]>"
      ]
     },
     "execution_count": 32,
     "metadata": {},
     "output_type": "execute_result"
    }
   ],
   "source": [
    "response = requests.get(endpoint, headers = headers)\n",
    "response"
   ]
  },
  {
   "cell_type": "code",
   "execution_count": 29,
   "id": "dedcbe24",
   "metadata": {},
   "outputs": [
    {
     "data": {
      "text/plain": [
       "'{\"universal-id\":\"0600001\",\"nces-id\":\"060177000041\",\"state-id\":\"01611190130229\",\"name\":\"Alameda High School\",\"school-summary\":\"Alameda High School, a public school located in Alameda, CA, serves grades 9-12 in the Alameda Unified School District.It has received a GreatSchools Rating of 9 out of 10, based on a variety of school quality measures.\",\"type\":\"public\",\"level-codes\":\"h\",\"level\":\"9,10,11,12\",\"street\":\"2201 Encinal Avenue\",\"city\":\"Alameda\",\"state\":\"CA\",\"fipscounty\":6001,\"zip\":\"94501\",\"phone\":\"(510) 337-7022\",\"fax\":\"(510) 521-4740\",\"county\":\"Alameda County\",\"lat\":37.76421,\"lon\":-122.24704,\"district-name\":\"Alameda Unified School District\",\"district-id\":1,\"web-site\":\"http://aus.alamedausd.ca.schoolloop.com\",\"overview-url\":\"https://www.greatschools.org/california/alameda/1-Alameda-High-School/\",\"rating\":\"9\",\"year\":2023,\"rating-description\":\"The GreatSchools Rating helps parents compare schools within a state based on a variety of school quality indicators and provides a helpful picture of how effectively each school serves all of its students. Ratings are on a scale of 1 (below average) to 10 (above average) and can include test scores, college readiness, academic progress, advanced courses, equity, discipline and attendance data. We also advise parents to visit schools, consider other information on school performance and programs, and consider family needs as part of the school selection process.\"}'"
      ]
     },
     "execution_count": 29,
     "metadata": {},
     "output_type": "execute_result"
    }
   ],
   "source": [
    "response.text"
   ]
  },
  {
   "cell_type": "code",
   "execution_count": 30,
   "id": "0405af12",
   "metadata": {},
   "outputs": [
    {
     "data": {
      "text/plain": [
       "{'universal-id': '0600001',\n",
       " 'nces-id': '060177000041',\n",
       " 'state-id': '01611190130229',\n",
       " 'name': 'Alameda High School',\n",
       " 'school-summary': 'Alameda High School, a public school located in Alameda, CA, serves grades 9-12 in the Alameda Unified School District.It has received a GreatSchools Rating of 9 out of 10, based on a variety of school quality measures.',\n",
       " 'type': 'public',\n",
       " 'level-codes': 'h',\n",
       " 'level': '9,10,11,12',\n",
       " 'street': '2201 Encinal Avenue',\n",
       " 'city': 'Alameda',\n",
       " 'state': 'CA',\n",
       " 'fipscounty': 6001,\n",
       " 'zip': '94501',\n",
       " 'phone': '(510) 337-7022',\n",
       " 'fax': '(510) 521-4740',\n",
       " 'county': 'Alameda County',\n",
       " 'lat': 37.76421,\n",
       " 'lon': -122.24704,\n",
       " 'district-name': 'Alameda Unified School District',\n",
       " 'district-id': 1,\n",
       " 'web-site': 'http://aus.alamedausd.ca.schoolloop.com',\n",
       " 'overview-url': 'https://www.greatschools.org/california/alameda/1-Alameda-High-School/',\n",
       " 'rating': '9',\n",
       " 'year': 2023,\n",
       " 'rating-description': 'The GreatSchools Rating helps parents compare schools within a state based on a variety of school quality indicators and provides a helpful picture of how effectively each school serves all of its students. Ratings are on a scale of 1 (below average) to 10 (above average) and can include test scores, college readiness, academic progress, advanced courses, equity, discipline and attendance data. We also advise parents to visit schools, consider other information on school performance and programs, and consider family needs as part of the school selection process.'}"
      ]
     },
     "execution_count": 30,
     "metadata": {},
     "output_type": "execute_result"
    }
   ],
   "source": [
    "res = response.json()\n",
    "res"
   ]
  },
  {
   "cell_type": "code",
   "execution_count": 25,
   "id": "1e3d3f53",
   "metadata": {},
   "outputs": [
    {
     "data": {
      "text/plain": [
       "dict_keys(['enrollment', 'percent-free-and-reduced-price-lunch', 'percent-economically-disadvantaged', 'percent-students-with-limited-english-proficiency', 'average-salary', 'student-teacher-ratio', 'student-counselor-ratio', 'percentage-male', 'percentage-female', 'percentage-of-teachers-with-3-or-more-years-experience', 'percentage-of-full-time-teachers-who-are-certified', 'ethnicity'])"
      ]
     },
     "execution_count": 25,
     "metadata": {},
     "output_type": "execute_result"
    }
   ],
   "source": [
    "res.keys()"
   ]
  },
  {
   "cell_type": "code",
   "execution_count": 26,
   "id": "7d494498",
   "metadata": {},
   "outputs": [
    {
     "data": {
      "text/plain": [
       "71814.29"
      ]
     },
     "execution_count": 26,
     "metadata": {},
     "output_type": "execute_result"
    }
   ],
   "source": [
    "res['average-salary']"
   ]
  },
  {
   "cell_type": "code",
   "execution_count": null,
   "id": "58b78e78",
   "metadata": {},
   "outputs": [],
   "source": []
  }
 ],
 "metadata": {
  "kernelspec": {
   "display_name": "Python 3 (ipykernel)",
   "language": "python",
   "name": "python3"
  },
  "language_info": {
   "codemirror_mode": {
    "name": "ipython",
    "version": 3
   },
   "file_extension": ".py",
   "mimetype": "text/x-python",
   "name": "python",
   "nbconvert_exporter": "python",
   "pygments_lexer": "ipython3",
   "version": "3.10.9"
  }
 },
 "nbformat": 4,
 "nbformat_minor": 5
}
